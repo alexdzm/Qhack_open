{
 "cells": [
  {
   "cell_type": "code",
   "execution_count": 24,
   "metadata": {},
   "outputs": [],
   "source": [
    "import numpy as np\n",
    "from qiskit import BasicAer\n",
    "from qiskit import QuantumCircuit, ClassicalRegister, QuantumRegister"
   ]
  },
  {
   "cell_type": "code",
   "execution_count": 25,
   "metadata": {},
   "outputs": [],
   "source": [
    "Ne=5 #the number of  qubits in register E. LIMITS RESOLUTIONS\n",
    "Ns=5 #the number of  qubits in register S\n",
    "backend = BasicAer.get_backend('unitary_simulator')"
   ]
  },
  {
   "cell_type": "markdown",
   "metadata": {},
   "source": [
    "![SNOWFALL](c.png)"
   ]
  },
  {
   "cell_type": "code",
   "execution_count": 26,
   "metadata": {},
   "outputs": [
    {
     "ename": "NameError",
     "evalue": "name 'E' is not defined",
     "output_type": "error",
     "traceback": [
      "\u001b[0;31m---------------------------------------------------------------------------\u001b[0m",
      "\u001b[0;31mNameError\u001b[0m                                 Traceback (most recent call last)",
      "\u001b[0;32m<ipython-input-26-5fdba4f52902>\u001b[0m in \u001b[0;36m<module>\u001b[0;34m\u001b[0m\n\u001b[0;32m----> 1\u001b[0;31m \u001b[0mqE\u001b[0m\u001b[0;34m=\u001b[0m\u001b[0mQuantumRegister\u001b[0m\u001b[0;34m(\u001b[0m\u001b[0mNe\u001b[0m\u001b[0;34m,\u001b[0m\u001b[0mname\u001b[0m\u001b[0;34m=\u001b[0m\u001b[0mE\u001b[0m\u001b[0;34m)\u001b[0m\u001b[0;34m\u001b[0m\u001b[0;34m\u001b[0m\u001b[0m\n\u001b[0m\u001b[1;32m      2\u001b[0m \u001b[0;34m\u001b[0m\u001b[0m\n\u001b[1;32m      3\u001b[0m \u001b[0mqS\u001b[0m\u001b[0;34m=\u001b[0m\u001b[0mQuantumRegister\u001b[0m\u001b[0;34m(\u001b[0m\u001b[0mNs\u001b[0m\u001b[0;34m,\u001b[0m\u001b[0mname\u001b[0m\u001b[0;34m=\u001b[0m\u001b[0mS\u001b[0m\u001b[0;34m)\u001b[0m\u001b[0;34m\u001b[0m\u001b[0;34m\u001b[0m\u001b[0m\n",
      "\u001b[0;31mNameError\u001b[0m: name 'E' is not defined"
     ]
    }
   ],
   "source": [
    "qE=QuantumRegister(Ne)\n",
    "qS=QuantumRegister(Ns)"
   ]
  },
  {
   "cell_type": "code",
   "execution_count": null,
   "metadata": {},
   "outputs": [
    {
     "data": {
      "text/html": [
       "<pre style=\"word-wrap: normal;white-space: pre;background: #fff0;line-height: 1.1;font-family: &quot;Courier New&quot;,Courier,monospace\">      ┌───┐\n",
       "q3_0: ┤ H ├\n",
       "      ├───┤\n",
       "q3_1: ┤ H ├\n",
       "      ├───┤\n",
       "q3_2: ┤ H ├\n",
       "      ├───┤\n",
       "q3_3: ┤ H ├\n",
       "      ├───┤\n",
       "q3_4: ┤ H ├\n",
       "      └───┘\n",
       "q4_0: ─────\n",
       "           \n",
       "q4_1: ─────\n",
       "           \n",
       "q4_2: ─────\n",
       "           \n",
       "q4_3: ─────\n",
       "           \n",
       "q4_4: ─────\n",
       "           </pre>"
      ],
      "text/plain": [
       "      ┌───┐\n",
       "q3_0: ┤ H ├\n",
       "      ├───┤\n",
       "q3_1: ┤ H ├\n",
       "      ├───┤\n",
       "q3_2: ┤ H ├\n",
       "      ├───┤\n",
       "q3_3: ┤ H ├\n",
       "      ├───┤\n",
       "q3_4: ┤ H ├\n",
       "      └───┘\n",
       "q4_0: ─────\n",
       "           \n",
       "q4_1: ─────\n",
       "           \n",
       "q4_2: ─────\n",
       "           \n",
       "q4_3: ─────\n",
       "           \n",
       "q4_4: ─────\n",
       "           "
      ]
     },
     "execution_count": 20,
     "metadata": {},
     "output_type": "execute_result"
    }
   ],
   "source": [
    "qc=QuantumCircuit(qE,qS)\n",
    "qc.h(qE)\n",
    "qc.draw()"
   ]
  }
 ],
 "metadata": {
  "interpreter": {
   "hash": "16f19d4d707f1f3a2b24cb6027918715a3c589995dbd89cd2d23ea3150cf140b"
  },
  "kernelspec": {
   "display_name": "Python 3.7.9 ('q_info')",
   "language": "python",
   "name": "python3"
  },
  "language_info": {
   "codemirror_mode": {
    "name": "ipython",
    "version": 3
   },
   "file_extension": ".py",
   "mimetype": "text/x-python",
   "name": "python",
   "nbconvert_exporter": "python",
   "pygments_lexer": "ipython3",
   "version": "3.7.9"
  },
  "orig_nbformat": 4
 },
 "nbformat": 4,
 "nbformat_minor": 2
}

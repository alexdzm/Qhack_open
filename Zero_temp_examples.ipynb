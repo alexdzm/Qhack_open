{
 "cells": [
  {
   "cell_type": "code",
   "execution_count": 31,
   "metadata": {},
   "outputs": [],
   "source": [
    "import numpy as np\n",
    "from make_HB import b_dag\n",
    "from qiskit import BasicAer\n",
    "from qiskit import QuantumCircuit, ClassicalRegister, QuantumRegister"
   ]
  },
  {
   "cell_type": "code",
   "execution_count": 32,
   "metadata": {},
   "outputs": [],
   "source": [
    "Ne=5 #the number of  qubits in register E. LIMITS RESOLUTIONS\n",
    "Ns=5 #the number of  qubits in register S\n",
    "backend = BasicAer.get_backend('unitary_simulator')"
   ]
  },
  {
   "cell_type": "markdown",
   "metadata": {},
   "source": [
    "![SNOWFALL](c.png)"
   ]
  },
  {
   "cell_type": "code",
   "execution_count": null,
   "metadata": {},
   "outputs": [],
   "source": [
    "#OhmA=\n",
    "#OhmB=\n",
    "#S= #the Duschinsky matrix\n"
   ]
  },
  {
   "cell_type": "code",
   "execution_count": null,
   "metadata": {},
   "outputs": [],
   "source": [
    "\n",
    "\n",
    "def pb(k,OhmA,OhmB,pa,S): #returns the momentum vector of PES B from PES A\n",
    "    return np.linalg.inv(OhmB) @ S @ OhmA @ pa\n",
    "\n",
    "def qb(k,OhmA,OhmB,qa,S,d): #returns the position vector of PES B from PES A\n",
    "    ans= OhmB @ S @ np.linalg.inv(OhmA) @ qa \n",
    "    return ans+= OhmB @ d\n",
    "\n",
    "Hb=np.zeros((np.shape(a)))"
   ]
  },
  {
   "cell_type": "code",
   "execution_count": 33,
   "metadata": {},
   "outputs": [],
   "source": [
    "qE=QuantumRegister(Ne)\n",
    "qS=QuantumRegister(Ns)"
   ]
  },
  {
   "cell_type": "code",
   "execution_count": 34,
   "metadata": {},
   "outputs": [
    {
     "data": {
      "text/html": [
       "<pre style=\"word-wrap: normal;white-space: pre;background: #fff0;line-height: 1.1;font-family: &quot;Courier New&quot;,Courier,monospace\">      ┌───┐\n",
       "q7_0: ┤ H ├\n",
       "      ├───┤\n",
       "q7_1: ┤ H ├\n",
       "      ├───┤\n",
       "q7_2: ┤ H ├\n",
       "      ├───┤\n",
       "q7_3: ┤ H ├\n",
       "      ├───┤\n",
       "q7_4: ┤ H ├\n",
       "      └───┘\n",
       "q8_0: ─────\n",
       "           \n",
       "q8_1: ─────\n",
       "           \n",
       "q8_2: ─────\n",
       "           \n",
       "q8_3: ─────\n",
       "           \n",
       "q8_4: ─────\n",
       "           </pre>"
      ],
      "text/plain": [
       "      ┌───┐\n",
       "q7_0: ┤ H ├\n",
       "      ├───┤\n",
       "q7_1: ┤ H ├\n",
       "      ├───┤\n",
       "q7_2: ┤ H ├\n",
       "      ├───┤\n",
       "q7_3: ┤ H ├\n",
       "      ├───┤\n",
       "q7_4: ┤ H ├\n",
       "      └───┘\n",
       "q8_0: ─────\n",
       "           \n",
       "q8_1: ─────\n",
       "           \n",
       "q8_2: ─────\n",
       "           \n",
       "q8_3: ─────\n",
       "           \n",
       "q8_4: ─────\n",
       "           "
      ]
     },
     "execution_count": 34,
     "metadata": {},
     "output_type": "execute_result"
    }
   ],
   "source": [
    "qc=QuantumCircuit(qE,qS)\n",
    "qc.h(qE)\n",
    "qc.barrier()\n",
    "\n",
    "repetitions = 1\n",
    "for counting_qubit in range(3):\n",
    "    for i in range(repetitions):\n",
    "        qpe.cp(math.pi/4, counting_qubit, 3); # This is CU\n",
    "    repetitions *= 2\n",
    "    \n",
    "qc.draw()"
   ]
  }
 ],
 "metadata": {
  "interpreter": {
   "hash": "16f19d4d707f1f3a2b24cb6027918715a3c589995dbd89cd2d23ea3150cf140b"
  },
  "kernelspec": {
   "display_name": "Python 3.7.9 ('q_info')",
   "language": "python",
   "name": "python3"
  },
  "language_info": {
   "codemirror_mode": {
    "name": "ipython",
    "version": 3
   },
   "file_extension": ".py",
   "mimetype": "text/x-python",
   "name": "python",
   "nbconvert_exporter": "python",
   "pygments_lexer": "ipython3",
   "version": "3.7.9"
  },
  "orig_nbformat": 4
 },
 "nbformat": 4,
 "nbformat_minor": 2
}
